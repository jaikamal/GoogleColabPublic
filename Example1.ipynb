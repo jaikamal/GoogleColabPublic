{
  "nbformat": 4,
  "nbformat_minor": 0,
  "metadata": {
    "colab": {
      "name": "Example1.ipynb",
      "provenance": [],
      "authorship_tag": "ABX9TyMV9x4wHcxQbYeUJUFppKyf",
      "include_colab_link": true
    },
    "kernelspec": {
      "name": "python3",
      "display_name": "Python 3"
    },
    "language_info": {
      "name": "python"
    }
  },
  "cells": [
    {
      "cell_type": "markdown",
      "metadata": {
        "id": "view-in-github",
        "colab_type": "text"
      },
      "source": [
        "<a href=\"https://colab.research.google.com/github/jaikamal/GoogleColabPublic/blob/main/Example1.ipynb\" target=\"_parent\"><img src=\"https://colab.research.google.com/assets/colab-badge.svg\" alt=\"Open In Colab\"/></a>"
      ]
    },
    {
      "cell_type": "code",
      "execution_count": 1,
      "metadata": {
        "colab": {
          "base_uri": "https://localhost:8080/"
        },
        "id": "aH1qvE4aXzYE",
        "outputId": "9184dd47-c829-4675-a9e2-028fbae61dc0"
      },
      "outputs": [
        {
          "output_type": "stream",
          "name": "stdout",
          "text": [
            "time.time(): 1650951565.895309 \n",
            "time.struct_time(tm_year=2022, tm_mon=4, tm_mday=26, tm_hour=5, tm_min=39, tm_sec=25, tm_wday=1, tm_yday=116, tm_isdst=0)\n",
            "Tue Apr 26 05:39:25 2022\n"
          ]
        }
      ],
      "source": [
        "# This example will tell us current time \n",
        "\n",
        "import time\n",
        "\n",
        "print (\"time.time(): %f \" %  time.time())\n",
        "print (time.localtime( time.time() ))\n",
        "print (time.asctime( time.localtime(time.time()) ))"
      ]
    },
    {
      "cell_type": "code",
      "source": [
        ""
      ],
      "metadata": {
        "id": "vpx5tTV-YMu0"
      },
      "execution_count": null,
      "outputs": []
    }
  ]
}